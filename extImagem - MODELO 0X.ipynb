{
 "cells": [
  {
   "cell_type": "markdown",
   "metadata": {},
   "source": [
    "# Extrair Imagem de PDF\n",
    "### Biblioteca utilizada: pikepdf, openpyxl, xlwings"
   ]
  },
  {
   "cell_type": "code",
   "execution_count": 1,
   "metadata": {},
   "outputs": [
    {
     "name": "stdout",
     "output_type": "stream",
     "text": [
      "['MAR07-PCS5 INV08 ST10.pdf', 'MAR07-PCS5 INV08 ST12.pdf', 'MAR07-PCS5 INV08 ST14.pdf', 'MAR07-PCS5 INV08 ST16.pdf', 'MAR07-PCS5 INV08 ST18.pdf', 'MAR07-PCS5 INV08 ST02.pdf', 'MAR07-PCS5 INV08 ST20.pdf', 'MAR07-PCS5 INV08 ST22.pdf', 'MAR07-PCS5 INV08 ST24.pdf', 'MAR07-PCS5 INV08 ST04.pdf', 'MAR07-PCS5 INV08 ST06.pdf', 'MAR07-PCS5 INV08 ST08.pdf', 'Report.pdf']\n",
      "O tamenho de tituloPDF é  13\n",
      "MAR07-PCS5 INV08 ST10.pdf\n",
      "MAR07-PCS5 INV08 ST12.pdf\n",
      "MAR07-PCS5 INV08 ST14.pdf\n",
      "MAR07-PCS5 INV08 ST16.pdf\n",
      "MAR07-PCS5 INV08 ST18.pdf\n",
      "MAR07-PCS5 INV08 ST02.pdf\n",
      "MAR07-PCS5 INV08 ST20.pdf\n",
      "MAR07-PCS5 INV08 ST22.pdf\n",
      "MAR07-PCS5 INV08 ST24.pdf\n",
      "MAR07-PCS5 INV08 ST04.pdf\n",
      "MAR07-PCS5 INV08 ST06.pdf\n",
      "MAR07-PCS5 INV08 ST08.pdf\n",
      "Report.pdf\n",
      "\n",
      "PCS: MAR07-PCS5 INV08\n"
     ]
    }
   ],
   "source": [
    "from pikepdf import Pdf, PdfImage\n",
    "from openpyxl import Workbook, load_workbook\n",
    "import xlwings as xw\n",
    "\n",
    "# tituloPDF1 = ['MAR07-PCS3 INV03 ST02', 'MAR07-PCS3 INV03 ST04', 'MAR07-PCS3 INV03 ST06', 'MAR07-PCS3 INV03 ST08', 'MAR07-PCS3 INV03 ST10', 'MAR07-PCS3 INV03 ST12', 'MAR07-PCS3 INV03 ST14', 'MAR07-PCS3 INV03 ST16', 'MAR07-PCS3 INV03 ST18', 'MAR07-PCS3 INV03 ST20', 'MAR07-PCS3 INV03 ST22', 'MAR07-PCS3 INV03 ST24', 'Report']\n",
    "import subprocess\n",
    "bat_file = 'r.bat'\n",
    "subprocess.run([bat_file], shell=True)\n",
    "\n",
    "\n",
    "planilha = xw.Book('PLANILHA DE RENOMEAR - MODELO 0X.xlsm')\n",
    "aba_ativa = planilha.sheets['RENOMEAR ARQUIVOS EM PDF']\n",
    "\n",
    "tituloPDF = aba_ativa.range('G42').value\n",
    "tituloPDF = tituloPDF.split('\\'')\n",
    "# remover itens que não farão parte da lista\n",
    "strings_para_remover = ['[', ', ', ']']\n",
    "\n",
    "for string in strings_para_remover:\n",
    "    while string in tituloPDF:\n",
    "        tituloPDF.remove(string)\n",
    "\n",
    "print(tituloPDF)\n",
    "print('O tamenho de tituloPDF é ', len(tituloPDF))\n",
    "\n",
    "for i in range(len(tituloPDF)):\n",
    "    arquivo = Pdf.open(tituloPDF[i])\n",
    "    print(tituloPDF[i])\n",
    "    for pagina in arquivo.pages:\n",
    "        for nome, imagem in pagina.images.items():\n",
    "            imagem_salvar = PdfImage(imagem)\n",
    "            imagem_salvar.extract_to(fileprefix=\"imagem/%s\" % (tituloPDF[i]))\n",
    "\n",
    "# Título da PCS\n",
    "PCS = tituloPDF[0][0:16]\n",
    "print(\"\\nPCS:\", PCS)\n",
    "\n",
    "planilha.app.quit()\n",
    "\n"
   ]
  },
  {
   "cell_type": "markdown",
   "metadata": {},
   "source": [
    "# Recortar parte específica de uma imagem\n",
    "### Biblioteca utilizada: cv2"
   ]
  },
  {
   "cell_type": "code",
   "execution_count": 2,
   "metadata": {},
   "outputs": [],
   "source": [
    "import cv2\n",
    "\n",
    "# abrindo a imagem\n",
    "img = cv2.imread('./imagem/Report.pdf.jpg')\n",
    "\n",
    "#mostrando a imagem\n",
    "# cv2.imshow('imagem', img)\n",
    "\n",
    "copia = img[160:290, 1390:1540]\n",
    "\n",
    "# mostrando a cópia\n",
    "# cv2.imshow('copia', copia)\n",
    "\n",
    "cv2.imwrite('copia.jpg', copia)\n",
    "cv2.waitKey(0)\n",
    "cv2.destroyAllWindows()"
   ]
  },
  {
   "cell_type": "markdown",
   "metadata": {},
   "source": [
    "# Extrair texto de imagem\n",
    "### Bibliotecas utilizadas: pytesseract, PIL, xlsxwriter e re"
   ]
  },
  {
   "cell_type": "code",
   "execution_count": null,
   "metadata": {},
   "outputs": [
    {
     "name": "stdout",
     "output_type": "stream",
     "text": [
      "900\n",
      "49\n",
      "2024-05-28 10:06:22\n",
      "\n",
      "['900', '49', '2024-05-28', '10:06:22']\n"
     ]
    }
   ],
   "source": [
    "import pytesseract\n",
    "from PIL import Image\n",
    "import re\n",
    "\n",
    "imagem = Image.open('copia.jpg')\n",
    "imagem = imagem.resize((imagem.width*2, imagem.height*2))\n",
    "imagem = imagem.convert('L')\n",
    "imagem = imagem.point(lambda x: 0 if x < 128 else 255, '1')\n",
    "\n",
    "caminho = r\"C:\\Users\\Darieldon\\AppData\\Local\\Programs\\Tesseract-OCR\"\n",
    "pytesseract.pytesseract.tesseract_cmd = caminho + r'\\tesseract.exe'\n",
    "\n",
    "config = '--psm 6'\n",
    "\n",
    "texto = pytesseract.image_to_string(imagem, config=config)\n",
    "print(texto)\n",
    "\n",
    "dataList = re.split(r\"\\s+\",texto)\n",
    "resultList = [i.strip() for i in dataList if i != '']\n",
    "\n",
    "print(resultList)"
   ]
  },
  {
   "cell_type": "markdown",
   "metadata": {},
   "source": [
    "# Adicionar os dados obtidos para uma planilha e tratá-los\n",
    "### Bibliotecas utilizadas: openpyxl e xlwings"
   ]
  },
  {
   "cell_type": "code",
   "execution_count": 4,
   "metadata": {},
   "outputs": [
    {
     "name": "stdout",
     "output_type": "stream",
     "text": [
      "0 ['900']\n",
      "1 ['49']\n",
      "2 ['2024-05-28']\n",
      "3 ['10:06:22']\n"
     ]
    }
   ],
   "source": [
    "from openpyxl import Workbook, load_workbook\n",
    "import xlwings as xw\n",
    "\n",
    "\n",
    "planilha = xw.Book(f'./Protocolo/Relatório de Ensaio de Curva IxV - {PCS}.xlsm')\n",
    "aba_ativa = planilha.sheets['BD']\n",
    "aba_ativa.activate()\n",
    "\n",
    "novaLista = [[resultList[0]], [resultList[1]], [resultList[2]], [resultList[3]]]\n",
    "\n",
    "for i, row in enumerate(novaLista):\n",
    "    print(i, row)\n",
    "    aba_ativa.range(f'A{i+2}').value = row\n",
    "\n",
    "planilha.save(f'./Protocolo/Relatório de Ensaio de Curva IxV - {PCS}.xlsm')"
   ]
  }
 ],
 "metadata": {
  "kernelspec": {
   "display_name": "Python 3",
   "language": "python",
   "name": "python3"
  },
  "language_info": {
   "codemirror_mode": {
    "name": "ipython",
    "version": 3
   },
   "file_extension": ".py",
   "mimetype": "text/x-python",
   "name": "python",
   "nbconvert_exporter": "python",
   "pygments_lexer": "ipython3",
   "version": "3.12.4"
  }
 },
 "nbformat": 4,
 "nbformat_minor": 2
}
